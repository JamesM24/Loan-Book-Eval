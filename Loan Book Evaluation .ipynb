{
 "cells": [
  {
   "cell_type": "code",
   "execution_count": 55,
   "metadata": {},
   "outputs": [],
   "source": [
    "import pandas as pd\n",
    "import numpy as np\n",
    "import matplotlib.pyplot as plt\n",
    "from datetime import datetime, timedelta\n",
    "import matplotlib.pyplot as plt"
   ]
  },
  {
   "cell_type": "code",
   "execution_count": 56,
   "metadata": {},
   "outputs": [],
   "source": [
    "#Import Loan Book as a pandas data frame\n",
    "loan_data = pd.read_csv('Loan Book.csv')"
   ]
  },
  {
   "cell_type": "code",
   "execution_count": 57,
   "metadata": {},
   "outputs": [
    {
     "data": {
      "text/plain": [
       "pandas.core.frame.DataFrame"
      ]
     },
     "execution_count": 57,
     "metadata": {},
     "output_type": "execute_result"
    }
   ],
   "source": [
    "type(loan_data)"
   ]
  },
  {
   "cell_type": "code",
   "execution_count": 58,
   "metadata": {},
   "outputs": [],
   "source": [
    "#Import Property Data as a pandas data frame\n",
    "property_data = pd.read_csv('Property Data.csv')"
   ]
  },
  {
   "cell_type": "code",
   "execution_count": 59,
   "metadata": {},
   "outputs": [
    {
     "data": {
      "text/plain": [
       "pandas.core.frame.DataFrame"
      ]
     },
     "execution_count": 59,
     "metadata": {},
     "output_type": "execute_result"
    }
   ],
   "source": [
    "type(property_data)"
   ]
  },
  {
   "cell_type": "code",
   "execution_count": 60,
   "metadata": {},
   "outputs": [
    {
     "data": {
      "text/plain": [
       "pandas.core.series.Series"
      ]
     },
     "execution_count": 60,
     "metadata": {},
     "output_type": "execute_result"
    }
   ],
   "source": [
    "type(property_data['Original Value'])"
   ]
  },
  {
   "cell_type": "code",
   "execution_count": 61,
   "metadata": {},
   "outputs": [
    {
     "data": {
      "text/plain": [
       "Property ID                int64\n",
       "Loan ID                    int64\n",
       "Property Location         object\n",
       "Original Value            object\n",
       "Current Indexed Value     object\n",
       "Unnamed: 5               float64\n",
       "dtype: object"
      ]
     },
     "execution_count": 61,
     "metadata": {},
     "output_type": "execute_result"
    }
   ],
   "source": [
    "property_data.dtypes"
   ]
  },
  {
   "cell_type": "code",
   "execution_count": 62,
   "metadata": {},
   "outputs": [
    {
     "data": {
      "text/plain": [
       "Loan ID                            int64\n",
       "Borrower ID                        int64\n",
       "Loan Purpose                      object\n",
       "Loan Type                         object\n",
       "Original Loan Amount              object\n",
       "Currency                          object\n",
       "Original Loan Term (in Months)     int64\n",
       "Loan Start Date                   object\n",
       "Loan Maturity Date                object\n",
       "Original Interest Rate Type       object\n",
       "Current Interest Rate Type        object\n",
       "Base Rate Type                    object\n",
       "Original Base Rate                object\n",
       "Margin                            object\n",
       "Current Base Rate                 object\n",
       "Current Nominal Rate              object\n",
       "Reversion Date                    object\n",
       "Principal Balance                 object\n",
       "Overdue Amount                    object\n",
       "Total Amount Outstanding          object\n",
       "Days past Due                     object\n",
       "Payment Frequency                 object\n",
       "Loan To Today                     object\n",
       "Original Rate Period               int64\n",
       "Original Rate                     object\n",
       "dtype: object"
      ]
     },
     "execution_count": 62,
     "metadata": {},
     "output_type": "execute_result"
    }
   ],
   "source": [
    "loan_data.dtypes"
   ]
  },
  {
   "cell_type": "code",
   "execution_count": 63,
   "metadata": {},
   "outputs": [],
   "source": [
    "#Remove commas / spaces from the values in the data set \n",
    "\n",
    "property_data['Original Value'] = property_data['Original Value'].str.replace(',', '')"
   ]
  },
  {
   "cell_type": "markdown",
   "metadata": {},
   "source": [
    "Examine the Data to take useful metrics and identify how to analyse the data."
   ]
  },
  {
   "cell_type": "code",
   "execution_count": 64,
   "metadata": {},
   "outputs": [],
   "source": [
    "property_data['Original Value'] = pd.to_numeric(property_data['Original Value'])"
   ]
  },
  {
   "cell_type": "code",
   "execution_count": 65,
   "metadata": {},
   "outputs": [
    {
     "data": {
      "text/plain": [
       "318"
      ]
     },
     "execution_count": 65,
     "metadata": {},
     "output_type": "execute_result"
    }
   ],
   "source": [
    "# To see the values that emp_length takes\n",
    "loan_data['Borrower ID'].nunique()"
   ]
  },
  {
   "cell_type": "code",
   "execution_count": 66,
   "metadata": {},
   "outputs": [
    {
     "data": {
      "text/plain": [
       "3"
      ]
     },
     "execution_count": 66,
     "metadata": {},
     "output_type": "execute_result"
    }
   ],
   "source": [
    "loan_data['Original Loan Term (in Months)'].nunique()"
   ]
  },
  {
   "cell_type": "code",
   "execution_count": 67,
   "metadata": {},
   "outputs": [
    {
     "data": {
      "text/plain": [
       "479"
      ]
     },
     "execution_count": 67,
     "metadata": {},
     "output_type": "execute_result"
    }
   ],
   "source": [
    "loan_data['Loan Start Date'].nunique()"
   ]
  },
  {
   "cell_type": "code",
   "execution_count": 68,
   "metadata": {},
   "outputs": [
    {
     "data": {
      "text/plain": [
       "array([180, 240, 300])"
      ]
     },
     "execution_count": 68,
     "metadata": {},
     "output_type": "execute_result"
    }
   ],
   "source": [
    "loan_data['Original Loan Term (in Months)'].unique()"
   ]
  },
  {
   "cell_type": "code",
   "execution_count": 69,
   "metadata": {},
   "outputs": [
    {
     "data": {
      "text/plain": [
       "array(['4.00%', '4.90%', '4.10%', '2.92%', '2.00%', '3.40%', '4.60%',\n",
       "       '4.70%', '3.63%', '2.13%', '2.96%', '4.20%', '2.43%', '3.02%',\n",
       "       '5.03%', '2.12%', '2.85%', '3.12%', '2.93%', '5.10%', '2.63%',\n",
       "       '4.50%', '4.88%', '2.30%', '3.83%', '3.43%', '5.20%', '5.42%',\n",
       "       '3.82%', '3.10%', '3.93%', '5.40%', '3.50%', '5.30%', '2.90%',\n",
       "       '4.53%', '4.80%', '4.42%', '5.02%', '3.80%', '4.40%', '2.70%',\n",
       "       '2.80%', '2.40%', '3.23%', '5.63%', '2.83%', '5.32%', '5.52%',\n",
       "       '2.50%', '2.22%', '4.95%', '2.82%', '4.92%', '3.73%', '3.70%',\n",
       "       '4.72%', '5.38%', '5.12%', '4.23%', '4.30%', '2.52%', '4.97%',\n",
       "       '3.72%', '2.60%', '5.50%', '4.93%', '4.83%', '5.53%', '2.23%',\n",
       "       '3.90%', '2.10%', '4.12%', '2.37%', '3.60%', '3.42%', '3.03%',\n",
       "       '4.17%', '3.53%', '4.33%', '3.48%', '5.22%', '3.52%', '4.05%',\n",
       "       '5.06%', '5.11%', '5.46%', '2.42%', '4.82%', '3.88%', '3.20%',\n",
       "       '4.62%', '3.92%', '4.28%', '4.52%', '5.33%', '4.43%', '3.00%',\n",
       "       '5.00%', '3.22%', '3.33%', '4.32%', '3.13%', '4.41%', '2.28%',\n",
       "       '2.32%', '5.13%', '2.20%', '2.73%', '2.91%', '2.48%', '5.05%',\n",
       "       '2.95%', '2.38%', '5.23%', '2.87%', '4.03%', '3.30%', '4.22%',\n",
       "       '2.53%', '3.15%', '4.02%', '4.13%', '4.73%', '2.33%', '5.45%',\n",
       "       '2.62%', '2.35%', '2.72%', '3.32%', '2.02%', '3.64%', '4.48%',\n",
       "       '3.87%', '5.15%', '3.62%', '5.07%', '4.98%', '5.43%', '2.05%',\n",
       "       '4.87%', '3.31%', '5.35%'], dtype=object)"
      ]
     },
     "execution_count": 69,
     "metadata": {},
     "output_type": "execute_result"
    }
   ],
   "source": [
    "#To see the values that emp_length takes\n",
    "loan_data['Current Nominal Rate'].unique()"
   ]
  },
  {
   "cell_type": "code",
   "execution_count": 70,
   "metadata": {},
   "outputs": [
    {
     "data": {
      "text/plain": [
       "143"
      ]
     },
     "execution_count": 70,
     "metadata": {},
     "output_type": "execute_result"
    }
   ],
   "source": [
    "loan_data['Current Nominal Rate'].nunique()"
   ]
  },
  {
   "cell_type": "code",
   "execution_count": 71,
   "metadata": {},
   "outputs": [
    {
     "data": {
      "text/plain": [
       "array(['Scotland', 'Yorkshire & Humber', 'London', 'South East',\n",
       "       'North West', 'East of England', 'West Midlands',\n",
       "       'Northern Ireland', 'Wales', 'South West', 'East Midlands',\n",
       "       'North East'], dtype=object)"
      ]
     },
     "execution_count": 71,
     "metadata": {},
     "output_type": "execute_result"
    }
   ],
   "source": [
    "property_data['Property Location'].unique()"
   ]
  },
  {
   "cell_type": "code",
   "execution_count": 72,
   "metadata": {},
   "outputs": [
    {
     "data": {
      "text/plain": [
       "Property Location\n",
       "East Midlands         16\n",
       "East of England       51\n",
       "London                81\n",
       "North East             9\n",
       "North West            70\n",
       "Northern Ireland       5\n",
       "Scotland              35\n",
       "South East            83\n",
       "South West            51\n",
       "Wales                 23\n",
       "West Midlands         51\n",
       "Yorkshire & Humber    31\n",
       "dtype: int64"
      ]
     },
     "execution_count": 72,
     "metadata": {},
     "output_type": "execute_result"
    }
   ],
   "source": [
    "# Find the number of properties in each region\n",
    "property_data.pivot_table(index=['Property Location'], aggfunc='size')"
   ]
  },
  {
   "cell_type": "code",
   "execution_count": 73,
   "metadata": {},
   "outputs": [
    {
     "data": {
      "text/plain": [
       "318"
      ]
     },
     "execution_count": 73,
     "metadata": {},
     "output_type": "execute_result"
    }
   ],
   "source": [
    "#Number of individual borrowers\n",
    "loan_data['Borrower ID'].nunique()"
   ]
  },
  {
   "cell_type": "code",
   "execution_count": 74,
   "metadata": {},
   "outputs": [
    {
     "data": {
      "text/plain": [
       "pandas.core.series.Series"
      ]
     },
     "execution_count": 74,
     "metadata": {},
     "output_type": "execute_result"
    }
   ],
   "source": [
    "type(property_data['Property Location'])"
   ]
  },
  {
   "cell_type": "code",
   "execution_count": 75,
   "metadata": {},
   "outputs": [
    {
     "data": {
      "text/plain": [
       "0                Scotland\n",
       "1                Scotland\n",
       "2      Yorkshire & Humber\n",
       "3                  London\n",
       "4              South East\n",
       "              ...        \n",
       "501       East of England\n",
       "502            South East\n",
       "503         West Midlands\n",
       "504            South East\n",
       "505            South East\n",
       "Name: Property Location, Length: 506, dtype: object"
      ]
     },
     "execution_count": 75,
     "metadata": {},
     "output_type": "execute_result"
    }
   ],
   "source": [
    "#convert to a string so .groupby can be used\n",
    "property_data['Property Location'].apply(str)"
   ]
  },
  {
   "cell_type": "code",
   "execution_count": 76,
   "metadata": {},
   "outputs": [
    {
     "data": {
      "text/plain": [
       "0       33600\n",
       "1      146300\n",
       "2      130600\n",
       "3       68000\n",
       "4       72900\n",
       "        ...  \n",
       "501     28900\n",
       "502     58900\n",
       "503     27000\n",
       "504     32000\n",
       "505     62000\n",
       "Name: Original Value, Length: 506, dtype: object"
      ]
     },
     "execution_count": 76,
     "metadata": {},
     "output_type": "execute_result"
    }
   ],
   "source": [
    "property_data['Original Value'].apply(str)"
   ]
  },
  {
   "cell_type": "code",
   "execution_count": 77,
   "metadata": {},
   "outputs": [],
   "source": [
    "#Total valuation by region will be helpful when analysing the loan book.\n",
    "property_sums = property_data.groupby('Property Location')['Original Value'].sum()"
   ]
  },
  {
   "cell_type": "code",
   "execution_count": 78,
   "metadata": {},
   "outputs": [
    {
     "name": "stdout",
     "output_type": "stream",
     "text": [
      "Property Location\n",
      "East Midlands         1884300\n",
      "East of England       4421200\n",
      "London                7207400\n",
      "North East             705600\n",
      "North West            6088300\n",
      "Northern Ireland       489200\n",
      "Scotland              3184700\n",
      "South East            7265600\n",
      "South West            4662000\n",
      "Wales                 1420700\n",
      "West Midlands         4737800\n",
      "Yorkshire & Humber    2724700\n",
      "Name: Original Value, dtype: int64\n"
     ]
    }
   ],
   "source": [
    "# Print the total property values by region\n",
    "print(property_sums)"
   ]
  },
  {
   "cell_type": "code",
   "execution_count": 79,
   "metadata": {},
   "outputs": [
    {
     "data": {
      "text/plain": [
       "<AxesSubplot:ylabel='Property Location'>"
      ]
     },
     "execution_count": 79,
     "metadata": {},
     "output_type": "execute_result"
    },
    {
     "data": {
      "image/png": "[encoded data removed]",
      "text/plain": [
       "<Figure size 432x288 with 1 Axes>"
      ]
     },
     "metadata": {
      "needs_background": "light"
     },
     "output_type": "display_data"
    }
   ],
   "source": [
    "property_sums.plot.barh(color='green') "
   ]
  },
  {
   "cell_type": "markdown",
   "metadata": {},
   "source": [
    "The next step is to define a series of functions which return the output we want. In this case the total amount of interest paid over the life time of the loan and the total monthly loan repayment with a changing reverse interest rate and change in balance of principal payment and interest payment."
   ]
  },
  {
   "cell_type": "code",
   "execution_count": 80,
   "metadata": {},
   "outputs": [],
   "source": [
    "#Define a function which calculates the total interest paid over the lifetime of each loan.\n",
    "\n",
    "def cumulative_interest(start_date,repayment_amount,months_period, loan_amount, initial_interest, final_interest, reversion_date):\n",
    "    date = start_date\n",
    "    delta = timedelta(days=30*int(months_period))\n",
    "    outstanding_loan_amount = int(loan_amount)\n",
    "    total_interest = 0\n",
    "    while outstanding_loan_amount>0:\n",
    "        interest_paid = initial_interest * outstanding_loan_amount\n",
    "        total_interest += interest_paid\n",
    "        outstanding_loan_amount -= repayment_amount\n",
    "        date += delta\n",
    "        print(date, outstanding_loan_amount, interest_paid)\n",
    "    return(total_interest)"
   ]
  },
  {
   "cell_type": "code",
   "execution_count": 81,
   "metadata": {},
   "outputs": [],
   "source": [
    "#Define a function which calculates the monthly payment with a fixed interest rate\n",
    "\n",
    "def single_rate_payment(p,n,r):\n",
    "  r = r /100.0\n",
    "  rf = (1 + r)**n\n",
    "  c = r*p*rf/(rf - 1)\n",
    "  return c\n",
    "\n",
    "#Define a function which calculates the monthly payment with a changing rate (reverse rate)\n",
    "\n",
    "def monthly_payment(loan_amount,periods_to_today,original_rate_period,original_rate,reverse_rate):\n",
    "  P = loan_amount\n",
    "  N = periods_to_today\n",
    "  M = original_rate_period\n",
    "  r = original_rate / 100\n",
    "  s = reverse_rate / 100\n",
    "  ifr = (1 + r) ** M\n",
    "  ifs = (1 + s) ** (N - M)\n",
    "  C = r*P*ifr*ifs/(ifr*ifs - 1)\n",
    "  return C"
   ]
  },
  {
   "cell_type": "code",
   "execution_count": 82,
   "metadata": {},
   "outputs": [
    {
     "name": "stdout",
     "output_type": "stream",
     "text": [
      "642.1800808046846\n"
     ]
    }
   ],
   "source": [
    "#call function and print total monthly repayment for a test loan.\n",
    "\n",
    "monthly = monthly_payment(12000, 180, 60, 5.35, 4.30)\n",
    "print(monthly)"
   ]
  },
  {
   "cell_type": "code",
   "execution_count": 87,
   "metadata": {},
   "outputs": [
    {
     "name": "stdout",
     "output_type": "stream",
     "text": [
      "2023-11-23 00:00:00 11358 636.0\n",
      "2042-10-14 00:00:00 10716 601.9739999999999\n",
      "2061-09-04 00:00:00 10074 567.948\n",
      "2080-07-26 00:00:00 9432 533.922\n",
      "2099-06-17 00:00:00 8790 499.89599999999996\n",
      "2118-05-09 00:00:00 8148 465.87\n",
      "2137-03-30 00:00:00 7506 431.844\n",
      "2156-02-19 00:00:00 6864 397.818\n",
      "2175-01-10 00:00:00 6222 363.792\n",
      "2193-12-01 00:00:00 5580 329.76599999999996\n",
      "2212-10-23 00:00:00 4938 295.74\n",
      "2231-09-14 00:00:00 4296 261.714\n",
      "2250-08-05 00:00:00 3654 227.688\n",
      "2269-06-26 00:00:00 3012 193.662\n",
      "2288-05-17 00:00:00 2370 159.636\n",
      "2307-04-09 00:00:00 1728 125.61\n",
      "2326-02-28 00:00:00 1086 91.584\n",
      "2345-01-19 00:00:00 444 57.558\n",
      "2363-12-11 00:00:00 -198 23.532\n",
      "6265.554\n"
     ]
    }
   ],
   "source": [
    "#call function for cumulative interest over the loan's life time using a test loan.\n",
    "\n",
    "time_in_string = \"01-01-2005\"\n",
    "test_date = datetime.strptime(time_in_string, \"%d-%m-%Y\")\n",
    "total_paid_interest = cumulative_interest(test_date, 642, 230, 12000, 0.053, 0.043, \"2015-05-10\")\n",
    "print(total_paid_interest) "
   ]
  },
  {
   "cell_type": "code",
   "execution_count": 84,
   "metadata": {},
   "outputs": [
    {
     "name": "stdout",
     "output_type": "stream",
     "text": [
      "18265.554\n"
     ]
    }
   ],
   "source": [
    "total_loan_payment = (total_paid_interest + 12000)\n",
    "print(total_loan_payment)"
   ]
  },
  {
   "cell_type": "markdown",
   "metadata": {},
   "source": [
    "The final stage is to take the functions and apply them to the data frame instead of having to input individual loan data as we have done so far."
   ]
  },
  {
   "cell_type": "code",
   "execution_count": 35,
   "metadata": {},
   "outputs": [
    {
     "ename": "TypeError",
     "evalue": "unsupported operand type(s) for /: 'str' and 'int'",
     "output_type": "error",
     "traceback": [
      "\u001b[0;31m---------------------------------------------------------------------------\u001b[0m",
      "\u001b[0;31mTypeError\u001b[0m                                 Traceback (most recent call last)",
      "\u001b[0;32m<ipython-input-35-702a2c676381>\u001b[0m in \u001b[0;36m<module>\u001b[0;34m\u001b[0m\n\u001b[0;32m----> 1\u001b[0;31m \u001b[0mloan_data\u001b[0m\u001b[0;34m[\u001b[0m\u001b[0;34m'Monthly payment'\u001b[0m\u001b[0;34m]\u001b[0m \u001b[0;34m=\u001b[0m \u001b[0mloan_data\u001b[0m\u001b[0;34m.\u001b[0m\u001b[0mapply\u001b[0m\u001b[0;34m(\u001b[0m\u001b[0mmonthly_payment\u001b[0m\u001b[0;34m(\u001b[0m\u001b[0;34m'Original Loan'\u001b[0m\u001b[0;34m,\u001b[0m \u001b[0;34m'Loan To Today'\u001b[0m\u001b[0;34m,\u001b[0m \u001b[0;34m'Original Rate Period'\u001b[0m\u001b[0;34m,\u001b[0m \u001b[0;34m'Original Rate'\u001b[0m\u001b[0;34m,\u001b[0m \u001b[0;34m'Current Nominal Rate'\u001b[0m\u001b[0;34m)\u001b[0m\u001b[0;34m,\u001b[0m \u001b[0maxis\u001b[0m\u001b[0;34m=\u001b[0m\u001b[0;36m1\u001b[0m\u001b[0;34m)\u001b[0m\u001b[0;34m\u001b[0m\u001b[0;34m\u001b[0m\u001b[0m\n\u001b[0m",
      "\u001b[0;32m<ipython-input-30-dc2ded4fd688>\u001b[0m in \u001b[0;36mmonthly_payment\u001b[0;34m(loan_amount, periods_to_today, original_rate_period, original_rate, reverse_rate)\u001b[0m\n\u001b[1;32m     10\u001b[0m   \u001b[0mN\u001b[0m \u001b[0;34m=\u001b[0m \u001b[0mperiods_to_today\u001b[0m\u001b[0;34m\u001b[0m\u001b[0;34m\u001b[0m\u001b[0m\n\u001b[1;32m     11\u001b[0m   \u001b[0mM\u001b[0m \u001b[0;34m=\u001b[0m \u001b[0moriginal_rate_period\u001b[0m\u001b[0;34m\u001b[0m\u001b[0;34m\u001b[0m\u001b[0m\n\u001b[0;32m---> 12\u001b[0;31m   \u001b[0mr\u001b[0m \u001b[0;34m=\u001b[0m \u001b[0moriginal_rate\u001b[0m \u001b[0;34m/\u001b[0m \u001b[0;36m100\u001b[0m\u001b[0;34m\u001b[0m\u001b[0;34m\u001b[0m\u001b[0m\n\u001b[0m\u001b[1;32m     13\u001b[0m   \u001b[0ms\u001b[0m \u001b[0;34m=\u001b[0m \u001b[0mreverse_rate\u001b[0m \u001b[0;34m/\u001b[0m \u001b[0;36m100\u001b[0m\u001b[0;34m\u001b[0m\u001b[0;34m\u001b[0m\u001b[0m\n\u001b[1;32m     14\u001b[0m   \u001b[0mifr\u001b[0m \u001b[0;34m=\u001b[0m \u001b[0;34m(\u001b[0m\u001b[0;36m1\u001b[0m \u001b[0;34m+\u001b[0m \u001b[0mr\u001b[0m\u001b[0;34m)\u001b[0m \u001b[0;34m**\u001b[0m \u001b[0mM\u001b[0m\u001b[0;34m\u001b[0m\u001b[0;34m\u001b[0m\u001b[0m\n",
      "\u001b[0;31mTypeError\u001b[0m: unsupported operand type(s) for /: 'str' and 'int'"
     ]
    }
   ],
   "source": [
    "loan_data['Monthly payment'] = loan_data.apply(monthly_payment('Original Loan', 'Loan To Today', 'Original Rate Period', 'Original Rate', 'Current Nominal Rate'), axis=1)"
   ]
  },
  {
   "cell_type": "code",
   "execution_count": null,
   "metadata": {},
   "outputs": [],
   "source": []
  }
 ],
 "metadata": {
  "kernelspec": {
   "display_name": "Python 3",
   "language": "python",
   "name": "python3"
  },
  "language_info": {
   "codemirror_mode": {
    "name": "ipython",
    "version": 3
   },
   "file_extension": ".py",
   "mimetype": "text/x-python",
   "name": "python",
   "nbconvert_exporter": "python",
   "pygments_lexer": "ipython3",
   "version": "3.7.4"
  }
 },
 "nbformat": 4,
 "nbformat_minor": 4
}
